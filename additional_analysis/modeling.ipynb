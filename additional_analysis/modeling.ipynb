{
 "cells": [
  {
   "cell_type": "markdown",
   "metadata": {},
   "source": [
    "# Modeling\n",
    "### Alex Bass\n",
    "### 8 Aug 2022  \n",
    "\n",
    "*Description*: I have already tested out a few models in my previous notebook, but I wanted to redo some and try out the negative binomial regression model. I think it may be more straight forward to interpret and could still work with the imbalance of zeros"
   ]
  },
  {
   "cell_type": "code",
   "execution_count": 1,
   "metadata": {},
   "outputs": [],
   "source": [
    "import arviz as az\n",
    "import matplotlib.pyplot as plt\n",
    "import numpy as np\n",
    "import pandas as pd\n",
    "import pymc3 as pm\n",
    "import seaborn as sns\n",
    "import os\n",
    "import bambi as bmb\n",
    "\n",
    "from formulae import design_matrices"
   ]
  },
  {
   "cell_type": "code",
   "execution_count": 2,
   "metadata": {},
   "outputs": [
    {
     "data": {
      "text/plain": [
       "Index(['X', 'STATE', 'gun_own', 'hunt_license', 'background_checks',\n",
       "       'gun_permit_law', 'COUNTY', 'under40', 'Male', 'White', 'Black',\n",
       "       'Asian', 'Hispanic', 'State', 'CountyName', 'countyFIPS',\n",
       "       'Unemployment_rate_2021', 'Median_Household_Income_2020', 'ba_plus',\n",
       "       'less_than_hs', 'hs', 'some_col', 'population', 'n', 'gun_strictness',\n",
       "       'rural', 'suburban', 'urban'],\n",
       "      dtype='object')"
      ]
     },
     "execution_count": 2,
     "metadata": {},
     "output_type": "execute_result"
    }
   ],
   "source": [
    "data = pd.read_csv('/Users/alex/Library/CloudStorage/OneDrive-Personal/DS6040/Project - School Shootings/Finalized_Data/new_train.csv') #reading in final data\n",
    "data.columns"
   ]
  },
  {
   "cell_type": "code",
   "execution_count": 3,
   "metadata": {},
   "outputs": [
    {
     "data": {
      "text/plain": [
       "(3142, 28)"
      ]
     },
     "execution_count": 3,
     "metadata": {},
     "output_type": "execute_result"
    }
   ],
   "source": [
    "data.shape"
   ]
  },
  {
   "cell_type": "code",
   "execution_count": 4,
   "metadata": {},
   "outputs": [
    {
     "data": {
      "text/plain": [
       "array([ 0,  1,  2,  3,  4,  5,  6,  7,  8,  9, 10, 11, 12, 13, 14, 15, 16,\n",
       "       17, 18, 19, 20, 21, 22, 23, 24, 25, 26, 27, 28, 29, 30, 31, 32, 33,\n",
       "       34, 35, 36, 37, 38, 39, 40, 41, 42, 43, 44, 45, 46, 47, 48, 49])"
      ]
     },
     "execution_count": 4,
     "metadata": {},
     "output_type": "execute_result"
    }
   ],
   "source": [
    "data.dropna(inplace = True) #dropping NAs\n",
    "\n",
    "data['state_r'] = data['STATE']\n",
    "data = data.replace({'state_r': {1: 0, 2: 1, 4: 2, 5: 3, 6: 4, 8: 5, 9: 6, 10: 7, 12: 8, 13: 9, 15: 10, 16: 11, 17: 12, 18: 13, \n",
    "                           19: 14, 20: 15, 21: 16, 22: 17, 23: 18, 24: 19, 25: 20, 26: 21, 27: 22, 28: 23, 29: 24, 30: 25, \n",
    "                           31: 26, 32: 27, 33: 28, 34: 29, 35: 30, 36: 31, 37: 32, 38: 33, 39: 34, 40: 35, 41: 36, 42: 37, \n",
    "                           44: 38, 45: 39, 46: 40, 47: 41, 48: 42, 49: 43, 50: 44, 51: 45, 53: 46, 54: 47, 55: 48, 56: 49 \n",
    "}})\n",
    "\n",
    "state_r = data.state_r.values\n",
    "n_state = len(data.state_r.unique())\n",
    "\n",
    "data.state_r.unique()"
   ]
  },
  {
   "cell_type": "code",
   "execution_count": 5,
   "metadata": {},
   "outputs": [],
   "source": [
    "#scaling all data\n",
    "columns_to_scale = ['gun_own',\n",
    "       'hunt_license', 'under40', 'Male', 'White', 'Black', 'Asian',\n",
    "       'Hispanic', 'Unemployment_rate_2021', 'Median_Household_Income_2020',\n",
    "       'ba_plus', 'less_than_hs', 'hs', 'some_col',\n",
    "       'population', 'gun_strictness']\n",
    "\n",
    "data[columns_to_scale] = data[columns_to_scale].apply(lambda x : (x - np.mean(x))/np.std(x))"
   ]
  },
  {
   "cell_type": "code",
   "execution_count": 6,
   "metadata": {},
   "outputs": [
    {
     "data": {
      "text/html": [
       "<div>\n",
       "<style scoped>\n",
       "    .dataframe tbody tr th:only-of-type {\n",
       "        vertical-align: middle;\n",
       "    }\n",
       "\n",
       "    .dataframe tbody tr th {\n",
       "        vertical-align: top;\n",
       "    }\n",
       "\n",
       "    .dataframe thead th {\n",
       "        text-align: right;\n",
       "    }\n",
       "</style>\n",
       "<table border=\"1\" class=\"dataframe\">\n",
       "  <thead>\n",
       "    <tr style=\"text-align: right;\">\n",
       "      <th></th>\n",
       "      <th>Intercept</th>\n",
       "      <th>gun_own</th>\n",
       "      <th>background_checks</th>\n",
       "      <th>gun_permit_law</th>\n",
       "      <th>gun_strictness</th>\n",
       "      <th>hunt_license</th>\n",
       "      <th>under40</th>\n",
       "      <th>Male</th>\n",
       "      <th>White</th>\n",
       "      <th>Black</th>\n",
       "      <th>...</th>\n",
       "      <th>Unemployment_rate_2021</th>\n",
       "      <th>Median_Household_Income_2020</th>\n",
       "      <th>ba_plus</th>\n",
       "      <th>less_than_hs</th>\n",
       "      <th>hs</th>\n",
       "      <th>some_col</th>\n",
       "      <th>urban</th>\n",
       "      <th>suburban</th>\n",
       "      <th>rural</th>\n",
       "      <th>population</th>\n",
       "    </tr>\n",
       "  </thead>\n",
       "  <tbody>\n",
       "    <tr>\n",
       "      <th>0</th>\n",
       "      <td>1.0</td>\n",
       "      <td>0.833042</td>\n",
       "      <td>0.0</td>\n",
       "      <td>0.0</td>\n",
       "      <td>-1.154567</td>\n",
       "      <td>-0.186645</td>\n",
       "      <td>0.397307</td>\n",
       "      <td>-0.717680</td>\n",
       "      <td>-0.495257</td>\n",
       "      <td>0.745100</td>\n",
       "      <td>...</td>\n",
       "      <td>-1.054016</td>\n",
       "      <td>0.694312</td>\n",
       "      <td>0.589642</td>\n",
       "      <td>-0.184500</td>\n",
       "      <td>-0.346835</td>\n",
       "      <td>-0.382626</td>\n",
       "      <td>1.0</td>\n",
       "      <td>0.0</td>\n",
       "      <td>0.0</td>\n",
       "      <td>-0.145751</td>\n",
       "    </tr>\n",
       "    <tr>\n",
       "      <th>1</th>\n",
       "      <td>1.0</td>\n",
       "      <td>0.833042</td>\n",
       "      <td>0.0</td>\n",
       "      <td>0.0</td>\n",
       "      <td>-1.154567</td>\n",
       "      <td>-0.186645</td>\n",
       "      <td>-0.419029</td>\n",
       "      <td>-0.718403</td>\n",
       "      <td>0.187723</td>\n",
       "      <td>-0.039755</td>\n",
       "      <td>...</td>\n",
       "      <td>-0.940531</td>\n",
       "      <td>0.939418</td>\n",
       "      <td>0.960109</td>\n",
       "      <td>-0.475586</td>\n",
       "      <td>-0.917436</td>\n",
       "      <td>0.061710</td>\n",
       "      <td>1.0</td>\n",
       "      <td>0.0</td>\n",
       "      <td>0.0</td>\n",
       "      <td>0.355878</td>\n",
       "    </tr>\n",
       "    <tr>\n",
       "      <th>2</th>\n",
       "      <td>1.0</td>\n",
       "      <td>0.833042</td>\n",
       "      <td>0.0</td>\n",
       "      <td>0.0</td>\n",
       "      <td>-1.154567</td>\n",
       "      <td>-0.186645</td>\n",
       "      <td>0.204220</td>\n",
       "      <td>1.238609</td>\n",
       "      <td>-2.151528</td>\n",
       "      <td>2.691732</td>\n",
       "      <td>...</td>\n",
       "      <td>0.591523</td>\n",
       "      <td>-1.276080</td>\n",
       "      <td>-1.134098</td>\n",
       "      <td>2.131007</td>\n",
       "      <td>0.245205</td>\n",
       "      <td>-0.690082</td>\n",
       "      <td>0.0</td>\n",
       "      <td>1.0</td>\n",
       "      <td>0.0</td>\n",
       "      <td>-0.239213</td>\n",
       "    </tr>\n",
       "    <tr>\n",
       "      <th>3</th>\n",
       "      <td>1.0</td>\n",
       "      <td>0.833042</td>\n",
       "      <td>0.0</td>\n",
       "      <td>0.0</td>\n",
       "      <td>-1.154567</td>\n",
       "      <td>-0.186645</td>\n",
       "      <td>0.386655</td>\n",
       "      <td>1.392354</td>\n",
       "      <td>-0.464478</td>\n",
       "      <td>0.825132</td>\n",
       "      <td>...</td>\n",
       "      <td>-0.656817</td>\n",
       "      <td>-0.449379</td>\n",
       "      <td>-1.161714</td>\n",
       "      <td>1.112068</td>\n",
       "      <td>1.511475</td>\n",
       "      <td>-1.235287</td>\n",
       "      <td>1.0</td>\n",
       "      <td>0.0</td>\n",
       "      <td>0.0</td>\n",
       "      <td>-0.246082</td>\n",
       "    </tr>\n",
       "    <tr>\n",
       "      <th>4</th>\n",
       "      <td>1.0</td>\n",
       "      <td>0.833042</td>\n",
       "      <td>0.0</td>\n",
       "      <td>0.0</td>\n",
       "      <td>-1.154567</td>\n",
       "      <td>-0.186645</td>\n",
       "      <td>0.074468</td>\n",
       "      <td>-0.388431</td>\n",
       "      <td>0.699984</td>\n",
       "      <td>-0.530321</td>\n",
       "      <td>...</td>\n",
       "      <td>-1.280987</td>\n",
       "      <td>-0.154428</td>\n",
       "      <td>-0.965131</td>\n",
       "      <td>0.790681</td>\n",
       "      <td>0.158194</td>\n",
       "      <td>0.638844</td>\n",
       "      <td>1.0</td>\n",
       "      <td>0.0</td>\n",
       "      <td>0.0</td>\n",
       "      <td>-0.139885</td>\n",
       "    </tr>\n",
       "    <tr>\n",
       "      <th>...</th>\n",
       "      <td>...</td>\n",
       "      <td>...</td>\n",
       "      <td>...</td>\n",
       "      <td>...</td>\n",
       "      <td>...</td>\n",
       "      <td>...</td>\n",
       "      <td>...</td>\n",
       "      <td>...</td>\n",
       "      <td>...</td>\n",
       "      <td>...</td>\n",
       "      <td>...</td>\n",
       "      <td>...</td>\n",
       "      <td>...</td>\n",
       "      <td>...</td>\n",
       "      <td>...</td>\n",
       "      <td>...</td>\n",
       "      <td>...</td>\n",
       "      <td>...</td>\n",
       "      <td>...</td>\n",
       "      <td>...</td>\n",
       "      <td>...</td>\n",
       "    </tr>\n",
       "    <tr>\n",
       "      <th>3136</th>\n",
       "      <td>1.0</td>\n",
       "      <td>2.206241</td>\n",
       "      <td>0.0</td>\n",
       "      <td>0.0</td>\n",
       "      <td>-2.055884</td>\n",
       "      <td>1.079379</td>\n",
       "      <td>1.234813</td>\n",
       "      <td>0.612461</td>\n",
       "      <td>0.573391</td>\n",
       "      <td>-0.549638</td>\n",
       "      <td>...</td>\n",
       "      <td>0.534781</td>\n",
       "      <td>0.901519</td>\n",
       "      <td>-0.143786</td>\n",
       "      <td>-0.823092</td>\n",
       "      <td>-0.224346</td>\n",
       "      <td>1.501087</td>\n",
       "      <td>0.0</td>\n",
       "      <td>1.0</td>\n",
       "      <td>0.0</td>\n",
       "      <td>-0.186291</td>\n",
       "    </tr>\n",
       "    <tr>\n",
       "      <th>3137</th>\n",
       "      <td>1.0</td>\n",
       "      <td>2.206241</td>\n",
       "      <td>0.0</td>\n",
       "      <td>0.0</td>\n",
       "      <td>-2.055884</td>\n",
       "      <td>1.079379</td>\n",
       "      <td>0.661028</td>\n",
       "      <td>0.720313</td>\n",
       "      <td>0.648044</td>\n",
       "      <td>-0.596664</td>\n",
       "      <td>...</td>\n",
       "      <td>-0.827045</td>\n",
       "      <td>2.405455</td>\n",
       "      <td>3.348400</td>\n",
       "      <td>-1.173494</td>\n",
       "      <td>-2.484783</td>\n",
       "      <td>-1.319654</td>\n",
       "      <td>0.0</td>\n",
       "      <td>0.0</td>\n",
       "      <td>1.0</td>\n",
       "      <td>-0.242875</td>\n",
       "    </tr>\n",
       "    <tr>\n",
       "      <th>3138</th>\n",
       "      <td>1.0</td>\n",
       "      <td>2.206241</td>\n",
       "      <td>0.0</td>\n",
       "      <td>0.0</td>\n",
       "      <td>-2.055884</td>\n",
       "      <td>1.079379</td>\n",
       "      <td>0.884406</td>\n",
       "      <td>0.190871</td>\n",
       "      <td>0.668374</td>\n",
       "      <td>-0.595385</td>\n",
       "      <td>...</td>\n",
       "      <td>0.194324</td>\n",
       "      <td>0.947039</td>\n",
       "      <td>-0.361401</td>\n",
       "      <td>-0.911429</td>\n",
       "      <td>0.505643</td>\n",
       "      <td>0.988468</td>\n",
       "      <td>0.0</td>\n",
       "      <td>0.0</td>\n",
       "      <td>1.0</td>\n",
       "      <td>-0.252580</td>\n",
       "    </tr>\n",
       "    <tr>\n",
       "      <th>3139</th>\n",
       "      <td>1.0</td>\n",
       "      <td>2.206241</td>\n",
       "      <td>0.0</td>\n",
       "      <td>0.0</td>\n",
       "      <td>-2.055884</td>\n",
       "      <td>1.079379</td>\n",
       "      <td>-0.643928</td>\n",
       "      <td>0.290855</td>\n",
       "      <td>0.620004</td>\n",
       "      <td>-0.608385</td>\n",
       "      <td>...</td>\n",
       "      <td>-0.373103</td>\n",
       "      <td>0.074132</td>\n",
       "      <td>0.124250</td>\n",
       "      <td>-0.729335</td>\n",
       "      <td>-0.699993</td>\n",
       "      <td>1.565122</td>\n",
       "      <td>0.0</td>\n",
       "      <td>0.0</td>\n",
       "      <td>1.0</td>\n",
       "      <td>-0.289808</td>\n",
       "    </tr>\n",
       "    <tr>\n",
       "      <th>3140</th>\n",
       "      <td>1.0</td>\n",
       "      <td>2.206241</td>\n",
       "      <td>0.0</td>\n",
       "      <td>0.0</td>\n",
       "      <td>-2.055884</td>\n",
       "      <td>1.079379</td>\n",
       "      <td>-0.401443</td>\n",
       "      <td>0.971951</td>\n",
       "      <td>0.537848</td>\n",
       "      <td>-0.599440</td>\n",
       "      <td>...</td>\n",
       "      <td>-0.827045</td>\n",
       "      <td>0.099466</td>\n",
       "      <td>-0.558660</td>\n",
       "      <td>-0.949096</td>\n",
       "      <td>0.572114</td>\n",
       "      <td>1.297233</td>\n",
       "      <td>0.0</td>\n",
       "      <td>0.0</td>\n",
       "      <td>1.0</td>\n",
       "      <td>-0.292440</td>\n",
       "    </tr>\n",
       "  </tbody>\n",
       "</table>\n",
       "<p>3141 rows × 22 columns</p>\n",
       "</div>"
      ],
      "text/plain": [
       "      Intercept   gun_own  background_checks  gun_permit_law  gun_strictness  \\\n",
       "0           1.0  0.833042                0.0             0.0       -1.154567   \n",
       "1           1.0  0.833042                0.0             0.0       -1.154567   \n",
       "2           1.0  0.833042                0.0             0.0       -1.154567   \n",
       "3           1.0  0.833042                0.0             0.0       -1.154567   \n",
       "4           1.0  0.833042                0.0             0.0       -1.154567   \n",
       "...         ...       ...                ...             ...             ...   \n",
       "3136        1.0  2.206241                0.0             0.0       -2.055884   \n",
       "3137        1.0  2.206241                0.0             0.0       -2.055884   \n",
       "3138        1.0  2.206241                0.0             0.0       -2.055884   \n",
       "3139        1.0  2.206241                0.0             0.0       -2.055884   \n",
       "3140        1.0  2.206241                0.0             0.0       -2.055884   \n",
       "\n",
       "      hunt_license   under40      Male     White     Black  ...  \\\n",
       "0        -0.186645  0.397307 -0.717680 -0.495257  0.745100  ...   \n",
       "1        -0.186645 -0.419029 -0.718403  0.187723 -0.039755  ...   \n",
       "2        -0.186645  0.204220  1.238609 -2.151528  2.691732  ...   \n",
       "3        -0.186645  0.386655  1.392354 -0.464478  0.825132  ...   \n",
       "4        -0.186645  0.074468 -0.388431  0.699984 -0.530321  ...   \n",
       "...            ...       ...       ...       ...       ...  ...   \n",
       "3136      1.079379  1.234813  0.612461  0.573391 -0.549638  ...   \n",
       "3137      1.079379  0.661028  0.720313  0.648044 -0.596664  ...   \n",
       "3138      1.079379  0.884406  0.190871  0.668374 -0.595385  ...   \n",
       "3139      1.079379 -0.643928  0.290855  0.620004 -0.608385  ...   \n",
       "3140      1.079379 -0.401443  0.971951  0.537848 -0.599440  ...   \n",
       "\n",
       "      Unemployment_rate_2021  Median_Household_Income_2020   ba_plus  \\\n",
       "0                  -1.054016                      0.694312  0.589642   \n",
       "1                  -0.940531                      0.939418  0.960109   \n",
       "2                   0.591523                     -1.276080 -1.134098   \n",
       "3                  -0.656817                     -0.449379 -1.161714   \n",
       "4                  -1.280987                     -0.154428 -0.965131   \n",
       "...                      ...                           ...       ...   \n",
       "3136                0.534781                      0.901519 -0.143786   \n",
       "3137               -0.827045                      2.405455  3.348400   \n",
       "3138                0.194324                      0.947039 -0.361401   \n",
       "3139               -0.373103                      0.074132  0.124250   \n",
       "3140               -0.827045                      0.099466 -0.558660   \n",
       "\n",
       "      less_than_hs        hs  some_col  urban  suburban  rural  population  \n",
       "0        -0.184500 -0.346835 -0.382626    1.0       0.0    0.0   -0.145751  \n",
       "1        -0.475586 -0.917436  0.061710    1.0       0.0    0.0    0.355878  \n",
       "2         2.131007  0.245205 -0.690082    0.0       1.0    0.0   -0.239213  \n",
       "3         1.112068  1.511475 -1.235287    1.0       0.0    0.0   -0.246082  \n",
       "4         0.790681  0.158194  0.638844    1.0       0.0    0.0   -0.139885  \n",
       "...            ...       ...       ...    ...       ...    ...         ...  \n",
       "3136     -0.823092 -0.224346  1.501087    0.0       1.0    0.0   -0.186291  \n",
       "3137     -1.173494 -2.484783 -1.319654    0.0       0.0    1.0   -0.242875  \n",
       "3138     -0.911429  0.505643  0.988468    0.0       0.0    1.0   -0.252580  \n",
       "3139     -0.729335 -0.699993  1.565122    0.0       0.0    1.0   -0.289808  \n",
       "3140     -0.949096  0.572114  1.297233    0.0       0.0    1.0   -0.292440  \n",
       "\n",
       "[3141 rows x 22 columns]"
      ]
     },
     "execution_count": 6,
     "metadata": {},
     "output_type": "execute_result"
    }
   ],
   "source": [
    "fml = \"n ~ gun_own + background_checks + gun_permit_law + gun_strictness + hunt_license + under40 + Male + White + Black + Asian + Hispanic + Unemployment_rate_2021 + Median_Household_Income_2020 + ba_plus + less_than_hs + hs + some_col + urban + suburban + rural + population\"  # full formulae formulation\n",
    "\n",
    "dm = design_matrices(fml, data, na_action=\"error\")\n",
    "\n",
    "mx_ex = dm.common.as_dataframe()\n",
    "mx_en = dm.response.as_dataframe()\n",
    "\n",
    "mx_ex"
   ]
  },
  {
   "cell_type": "markdown",
   "metadata": {},
   "source": [
    "## Poisson Model"
   ]
  },
  {
   "cell_type": "code",
   "execution_count": 7,
   "metadata": {},
   "outputs": [],
   "source": [
    "quick_prior_change = 5\n",
    "\n",
    "with pm.Model() as mdl_fish:\n",
    "\n",
    "    # define priors, weakly informative Normal\n",
    "    b0 = pm.Normal(\"Intercept\", mu=0, sigma=quick_prior_change)\n",
    "    b1 = pm.Normal(\"background_checks\", mu=0, sigma=quick_prior_change)#pm.Bernoulli(\"background_checks\", p=Bernoulli_prior)\n",
    "    b2 = pm.Normal(\"gun_permit_law\", mu=0, sigma=quick_prior_change)\n",
    "    b3 = pm.Normal(\"under40\", mu=0, sigma=quick_prior_change)\n",
    "    b4 = pm.Normal(\"Male\", mu=0, sigma=quick_prior_change)\n",
    "    b5 = pm.Normal(\"White\", mu=0, sigma=quick_prior_change)\n",
    "    b6 = pm.Normal(\"Black\", mu=0, sigma=quick_prior_change)\n",
    "    b7 = pm.Normal(\"Asian\", mu=0, sigma=quick_prior_change)\n",
    "    b8 = pm.Normal(\"Hispanic\", mu=0, sigma=quick_prior_change)\n",
    "    b9 = pm.Normal(\"Unemployment_rate_2021\", mu=0, sigma=quick_prior_change)\n",
    "    b10 = pm.Normal(\"Median_Household_Income_2020\", mu=0, sigma=quick_prior_change)\n",
    "    b11 = pm.Normal(\"ba_plus\", mu=0, sigma=quick_prior_change)\n",
    "    b12 = pm.Normal(\"less_than_hs\", mu=0, sigma=quick_prior_change)\n",
    "    b13 = pm.Normal(\"hs\", mu=0, sigma=quick_prior_change)\n",
    "    b14 = pm.Normal(\"some_col\", mu=0, sigma=quick_prior_change)\n",
    "    b15 = pm.Normal(\"population\", mu=0, sigma=quick_prior_change)\n",
    "    b16 = pm.Normal(\"gun_strictness\", mu=0, sigma=quick_prior_change)\n",
    "    b17 = pm.Normal(\"gun_own\", mu=0, sigma=quick_prior_change)\n",
    "    b18 = pm.Normal(\"hunt_license\", mu=0, sigma=quick_prior_change)\n",
    "    b19 = pm.Normal(\"urban\", mu=0, sigma=quick_prior_change)\n",
    "    b20 = pm.Normal(\"suburban\", mu=0, sigma=quick_prior_change)\n",
    "    b21 = pm.Normal(\"rural\", mu=0, sigma=quick_prior_change)\n",
    "\n",
    "    # define linear model and exp link function\n",
    "    theta = (\n",
    "        b0\n",
    "        + b1 * mx_ex[\"background_checks\"].values\n",
    "        + b2 * mx_ex[\"gun_permit_law\"].values\n",
    "        + b3 * mx_ex[\"under40\"].values\n",
    "        + b4 * mx_ex[\"Male\"].values\n",
    "        + b5 * mx_ex[\"White\"].values\n",
    "        + b6 * mx_ex[\"Black\"].values\n",
    "        + b7 * mx_ex[\"Asian\"].values\n",
    "        + b8 * mx_ex[\"Hispanic\"].values\n",
    "        + b9 * mx_ex[\"Unemployment_rate_2021\"].values\n",
    "        + b10 * mx_ex[\"Median_Household_Income_2020\"].values\n",
    "        + b11 * mx_ex[\"ba_plus\"].values\n",
    "        + b12 * mx_ex[\"less_than_hs\"].values\n",
    "        + b13 * mx_ex[\"hs\"].values\n",
    "        + b14 * mx_ex[\"some_col\"].values\n",
    "        + b15 * mx_ex[\"population\"].values\n",
    "        + b16 * mx_ex[\"gun_strictness\"].values\n",
    "        + b17 * mx_ex[\"gun_own\"].values\n",
    "        + b18 * mx_ex[\"hunt_license\"].values\n",
    "        + b19 * mx_ex[\"urban\"].values\n",
    "        + b20 * mx_ex[\"suburban\"].values\n",
    "        + b21 * mx_ex[\"rural\"].values\n",
    "    )\n",
    "\n",
    "    ## Define Poisson likelihood\n",
    "    y = pm.Poisson(\"y\", mu=pm.math.exp(theta), observed=mx_en[\"n\"].values)"
   ]
  },
  {
   "cell_type": "code",
   "execution_count": null,
   "metadata": {},
   "outputs": [
    {
     "name": "stderr",
     "output_type": "stream",
     "text": [
      "/Library/Frameworks/Python.framework/Versions/3.9/lib/python3.9/site-packages/deprecat/classic.py:215: FutureWarning: In v4.0, pm.sample will return an `arviz.InferenceData` object instead of a `MultiTrace` by default. You can pass return_inferencedata=True or return_inferencedata=False to be safe and silence this warning.\n",
      "  return wrapped_(*args_, **kwargs_)\n",
      "Auto-assigning NUTS sampler...\n",
      "Initializing NUTS using adapt_diag...\n",
      "Multiprocess sampling (4 chains in 4 jobs)\n",
      "NUTS: [rural, suburban, urban, hunt_license, gun_own, gun_strictness, population, some_col, hs, less_than_hs, ba_plus, Median_Household_Income_2020, Unemployment_rate_2021, Hispanic, Asian, Black, White, Male, under40, gun_permit_law, background_checks, Intercept]\n"
     ]
    },
    {
     "data": {
      "text/html": [
       "\n",
       "<style>\n",
       "    /* Turns off some styling */\n",
       "    progress {\n",
       "        /* gets rid of default border in Firefox and Opera. */\n",
       "        border: none;\n",
       "        /* Needs to be in here for Safari polyfill so background images work as expected. */\n",
       "        background-size: auto;\n",
       "    }\n",
       "    .progress-bar-interrupted, .progress-bar-interrupted::-webkit-progress-bar {\n",
       "        background: #F44336;\n",
       "    }\n",
       "</style>\n"
      ],
      "text/plain": [
       "<IPython.core.display.HTML object>"
      ]
     },
     "metadata": {},
     "output_type": "display_data"
    },
    {
     "data": {
      "text/html": [
       "\n",
       "    <div>\n",
       "      <progress value='2297' class='' max='8000' style='width:300px; height:20px; vertical-align: middle;'></progress>\n",
       "      28.71% [2297/8000 03:06<07:43 Sampling 4 chains, 0 divergences]\n",
       "    </div>\n",
       "    "
      ],
      "text/plain": [
       "<IPython.core.display.HTML object>"
      ]
     },
     "metadata": {},
     "output_type": "display_data"
    }
   ],
   "source": [
    "with mdl_fish:\n",
    "    trace_1 = pm.sample(1000, tune=1000, init = 'adapt_diag', target_accept = 0.90)"
   ]
  },
  {
   "cell_type": "code",
   "execution_count": null,
   "metadata": {},
   "outputs": [],
   "source": [
    "az.plot_trace(trace_1);"
   ]
  },
  {
   "cell_type": "code",
   "execution_count": null,
   "metadata": {
    "tags": []
   },
   "outputs": [],
   "source": [
    "az.summary(trace_1, kind=\"stats\") # these need to be exponentiated to be interpretted !!"
   ]
  },
  {
   "cell_type": "markdown",
   "metadata": {},
   "source": [
    "## Negative Binomial"
   ]
  },
  {
   "cell_type": "code",
   "execution_count": null,
   "metadata": {},
   "outputs": [],
   "source": [
    "with pm.Model() as m_neg_binomial:\n",
    "    \n",
    "    #Betas\n",
    "    b = pm.Normal(\"slopes\", mu=0, sigma=5, shape=22)\n",
    "    \n",
    "    #Alpha\n",
    "    alpha = pm.Exponential(\"alpha\", 0.5)\n",
    "    \n",
    "    lambd = (\n",
    "        b[21]\n",
    "        + b[0] * mx_ex[\"gun_own\"].values\n",
    "        + b[1] * mx_ex[\"background_checks\"].values\n",
    "        + b[2] * mx_ex[\"gun_permit_law\"].values\n",
    "        + b[3] * mx_ex[\"gun_strictness\"].values\n",
    "        + b[4] * mx_ex[\"hunt_license\"].values\n",
    "        + b[5] * mx_ex[\"under40\"].values\n",
    "        + b[6] * mx_ex[\"Male\"].values\n",
    "        + b[7] * mx_ex[\"White\"].values\n",
    "        + b[8] * mx_ex[\"Black\"].values\n",
    "        + b[9] * mx_ex[\"Asian\"].values\n",
    "        + b[10] * mx_ex[\"Hispanic\"].values\n",
    "        + b[11] * mx_ex[\"Unemployment_rate_2021\"].values\n",
    "        + b[12] * mx_ex[\"Median_Household_Income_2020\"].values\n",
    "        + b[13] * mx_ex[\"ba_plus\"].values\n",
    "        + b[14] * mx_ex[\"less_than_hs\"].values\n",
    "        + b[15] * mx_ex[\"hs\"].values\n",
    "        + b[16] * mx_ex[\"some_col\"].values\n",
    "        + b[17] * mx_ex[\"urban\"].values\n",
    "        + b[18] * mx_ex[\"suburban\"].values\n",
    "        + b[19] * mx_ex[\"rural\"].values\n",
    "        + b[20] * mx_ex[\"population\"].values\n",
    "    )\n",
    "\n",
    "    y = pm.NegativeBinomial(\"y\", mu=pm.math.exp(lambd), alpha=alpha, observed=mx_en[\"n\"])"
   ]
  },
  {
   "cell_type": "code",
   "execution_count": null,
   "metadata": {},
   "outputs": [],
   "source": [
    "with m_neg_binomial:\n",
    "    trace_2 = pm.sample(1000, tune=1000, target_accept = 0.9) #, target_accept = 0.9, init='adapt_diag'"
   ]
  },
  {
   "cell_type": "code",
   "execution_count": null,
   "metadata": {},
   "outputs": [],
   "source": [
    "az.plot_trace(trace_2)"
   ]
  },
  {
   "cell_type": "code",
   "execution_count": null,
   "metadata": {},
   "outputs": [],
   "source": [
    "az.summary(trace_2, kind=\"stats\")"
   ]
  },
  {
   "cell_type": "markdown",
   "metadata": {},
   "source": [
    "## Negative Binomial with Random Intercepts"
   ]
  },
  {
   "cell_type": "code",
   "execution_count": null,
   "metadata": {},
   "outputs": [],
   "source": [
    "with pm.Model() as m_neg_binomial:\n",
    "    \n",
    "    # Random intercepts as offsets\n",
    "    b0 = pm.Normal('a', mu=0, sd=10, shape=n_state)\n",
    "    \n",
    "    #Betas\n",
    "    b = pm.Normal(\"slopes\", mu=0, sigma=5, shape=21)\n",
    "    \n",
    "    #Alpha\n",
    "    alpha = pm.Exponential(\"alpha\", 0.5)\n",
    "    \n",
    "    λ = pm.math.exp(\n",
    "        b0[state_r]\n",
    "        + b[0] * mx_ex[\"gun_own\"].values\n",
    "        + b[1] * mx_ex[\"background_checks\"].values\n",
    "        + b[2] * mx_ex[\"gun_permit_law\"].values\n",
    "        + b[3] * mx_ex[\"gun_strictness\"].values\n",
    "        + b[4] * mx_ex[\"hunt_license\"].values\n",
    "        + b[5] * mx_ex[\"under40\"].values\n",
    "        + b[6] * mx_ex[\"Male\"].values\n",
    "        + b[7] * mx_ex[\"White\"].values\n",
    "        + b[8] * mx_ex[\"Black\"].values\n",
    "        + b[9] * mx_ex[\"Asian\"].values\n",
    "        + b[10] * mx_ex[\"Hispanic\"].values\n",
    "        + b[11] * mx_ex[\"Unemployment_rate_2021\"].values\n",
    "        + b[12] * mx_ex[\"Median_Household_Income_2020\"].values\n",
    "        + b[13] * mx_ex[\"ba_plus\"].values\n",
    "        + b[14] * mx_ex[\"less_than_hs\"].values\n",
    "        + b[15] * mx_ex[\"hs\"].values\n",
    "        + b[16] * mx_ex[\"some_col\"].values\n",
    "        + b[17] * mx_ex[\"urban\"].values\n",
    "        + b[18] * mx_ex[\"suburban\"].values\n",
    "        + b[19] * mx_ex[\"rural\"].values\n",
    "        + b[20] * mx_ex[\"population\"].values\n",
    "    )\n",
    "\n",
    "    y = pm.NegativeBinomial(\"y\", mu=λ, alpha=alpha, observed=mx_en[\"n\"].values)"
   ]
  },
  {
   "cell_type": "code",
   "execution_count": null,
   "metadata": {},
   "outputs": [],
   "source": [
    "with m_neg_binomial:\n",
    "    trace_3 = pm.sample(1000, tune=1000, target_accept = 0.9) #, target_accept = 0.9, init='adapt_diag'"
   ]
  },
  {
   "cell_type": "code",
   "execution_count": null,
   "metadata": {},
   "outputs": [],
   "source": [
    "az.plot_trace(trace_3)"
   ]
  },
  {
   "cell_type": "code",
   "execution_count": null,
   "metadata": {},
   "outputs": [],
   "source": [
    "az.summary(trace_3, kind=\"stats\")"
   ]
  },
  {
   "cell_type": "markdown",
   "metadata": {},
   "source": [
    "## Model Comparison"
   ]
  },
  {
   "cell_type": "code",
   "execution_count": null,
   "metadata": {},
   "outputs": [],
   "source": [
    "df_comp_loo = az.compare({\"pooled_poisson_all\": trace_1,\n",
    "                          \"pooled_negative_all\": trace_2,\n",
    "                          \"Hierarchical_negative\" : trace_3\n",
    "                         })\n",
    "df_comp_loo"
   ]
  },
  {
   "cell_type": "markdown",
   "metadata": {},
   "source": [
    "## Predictions with Best Model"
   ]
  },
  {
   "cell_type": "code",
   "execution_count": null,
   "metadata": {},
   "outputs": [],
   "source": [
    "dir(trace_3)"
   ]
  },
  {
   "cell_type": "code",
   "execution_count": null,
   "metadata": {},
   "outputs": [],
   "source": [
    "trace_3.get_values(\"a\")[100]"
   ]
  },
  {
   "cell_type": "code",
   "execution_count": null,
   "metadata": {},
   "outputs": [],
   "source": [
    "trace_3.varnames"
   ]
  },
  {
   "cell_type": "code",
   "execution_count": null,
   "metadata": {},
   "outputs": [],
   "source": [
    "data.shape"
   ]
  },
  {
   "cell_type": "code",
   "execution_count": null,
   "metadata": {},
   "outputs": [],
   "source": [
    "# mean model coefficients\n",
    "mean_model = summary[['mean']].T.reset_index(drop=True)\n",
    "\n",
    "# create a  design matrix of exog data values\n",
    "# same as for GLM's\n",
    "X = pd.DataFrame(data=glm_.data.exog,columns=glm_.data.param_names)\n",
    "\n",
    "# add columns for the standard deviations output from the bayesian fit\n",
    "for x in mean_model.columns:\n",
    "    if x not in X.columns:\n",
    "        X[x] = 1\n",
    "        \n",
    "# multiply and work out mu predictions\n",
    "coefs = X * mean_model.values\n",
    "pred_mu = coefs.iloc[:,:-1].sum(axis=1)[:]\n",
    "pred_sd = coefs['sd']\n",
    "print('Predictions:')\n",
    "n = 5\n",
    "for m,s in zip(pred_mu[:n],pred_sd[:n]): print(f\"\\tMu:{m:.2f} Sd:{s:.2f}\")"
   ]
  },
  {
   "cell_type": "code",
   "execution_count": null,
   "metadata": {},
   "outputs": [],
   "source": [
    "summary = az.summary(trace_3)"
   ]
  },
  {
   "cell_type": "code",
   "execution_count": null,
   "metadata": {},
   "outputs": [],
   "source": [
    "B_vector = summary[['mean']].T.reset_index(drop=True).iloc[:,:-1]\n",
    "B_vector"
   ]
  },
  {
   "cell_type": "code",
   "execution_count": null,
   "metadata": {},
   "outputs": [],
   "source": [
    "fml = \"n ~ C(STATE) + gun_own + background_checks + gun_permit_law + gun_strictness + hunt_license + under40 + Male + White + Black + Asian + Hispanic + Unemployment_rate_2021 + Median_Household_Income_2020 + ba_plus + less_than_hs + hs + some_col + urban + suburban + rural + population\"  # full formulae formulation\n",
    "\n",
    "dm = design_matrices(fml, data, na_action=\"error\")\n",
    "\n",
    "X = dm.common.as_dataframe()\n",
    "\n",
    "X"
   ]
  },
  {
   "cell_type": "code",
   "execution_count": null,
   "metadata": {},
   "outputs": [],
   "source": [
    "preds = B_vector.values*X\n",
    "# preds = np.array(np.exp(preds.iloc[:,:-1].sum(axis=1)[:]))\n",
    "preds = np.exp(preds.iloc[:,:-1].sum(axis=1)[:])"
   ]
  },
  {
   "cell_type": "code",
   "execution_count": null,
   "metadata": {},
   "outputs": [],
   "source": [
    "preds.describe()"
   ]
  },
  {
   "cell_type": "code",
   "execution_count": null,
   "metadata": {},
   "outputs": [],
   "source": [
    "preds.sort_values(ascending=False)"
   ]
  },
  {
   "cell_type": "code",
   "execution_count": null,
   "metadata": {},
   "outputs": [],
   "source": [
    "data[\"preds\"] = preds.values\n",
    "data = data[[\"countyFIPS\",\"State\",\"STATE\",\"COUNTY\",\"CountyName\",\"preds\"]].reset_index()"
   ]
  },
  {
   "cell_type": "code",
   "execution_count": null,
   "metadata": {},
   "outputs": [],
   "source": [
    "data.to_csv('/Users/alex/Library/CloudStorage/OneDrive-Personal/DS6040/Project - School Shootings/Finalized_Data/predicted.csv')"
   ]
  }
 ],
 "metadata": {
  "kernelspec": {
   "display_name": "Python 3 (ipykernel)",
   "language": "python",
   "name": "python3"
  },
  "language_info": {
   "codemirror_mode": {
    "name": "ipython",
    "version": 3
   },
   "file_extension": ".py",
   "mimetype": "text/x-python",
   "name": "python",
   "nbconvert_exporter": "python",
   "pygments_lexer": "ipython3",
   "version": "3.9.7"
  },
  "vscode": {
   "interpreter": {
    "hash": "aee8b7b246df8f9039afb4144a1f6fd8d2ca17a180786b69acc140d282b71a49"
   }
  }
 },
 "nbformat": 4,
 "nbformat_minor": 4
}
