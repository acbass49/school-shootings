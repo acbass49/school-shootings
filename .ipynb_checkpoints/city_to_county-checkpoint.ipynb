{
 "cells": [
  {
   "cell_type": "markdown",
   "id": "c7458c11-7d12-45f0-9208-60b1aa61071c",
   "metadata": {},
   "source": [
    "# Quick Webscraping Script Matching Cities to Counties\n",
    "## Alex Bass"
   ]
  },
  {
   "cell_type": "code",
   "execution_count": 1,
   "id": "e370d0e0-7c6b-4171-93ec-95e22d72798d",
   "metadata": {},
   "outputs": [],
   "source": [
    "from selenium import webdriver\n",
    "from webdriver_manager.chrome import ChromeDriverManager\n",
    "import time\n",
    "from selenium.webdriver.common.by import By\n",
    "from functools import reduce\n",
    "from selenium import webdriver\n",
    "from selenium.webdriver.support.ui import WebDriverWait\n",
    "from selenium.webdriver.support import expected_conditions as EC\n",
    "from selenium.common.exceptions import TimeoutException\n",
    "from selenium.common.exceptions import NoSuchElementException\n",
    "from selenium.webdriver.chrome.options import Options\n",
    "from selenium.webdriver.chrome.service import Service\n",
    "from selenium.webdriver.support.ui import Select\n",
    "import pandas as pd"
   ]
  },
  {
   "cell_type": "code",
   "execution_count": 2,
   "id": "14c77e71-b5bd-4306-a7be-a1d5420cfcf5",
   "metadata": {},
   "outputs": [],
   "source": [
    "data = pd.read_csv('shoot.csv')\n",
    "data.sort_values('State', inplace=True)\n",
    "data = data[['City', 'State']].reset_index()"
   ]
  },
  {
   "cell_type": "code",
   "execution_count": null,
   "id": "7aa99260-c697-4b55-949e-766245b3af33",
   "metadata": {},
   "outputs": [
    {
     "name": "stdout",
     "output_type": "stream",
     "text": [
      "\n"
     ]
    },
    {
     "name": "stderr",
     "output_type": "stream",
     "text": [
      "[WDM] - ====== WebDriver manager ======\n",
      "[WDM] - Current google-chrome version is 102.0.5005\n",
      "[WDM] - Get LATEST chromedriver version for 102.0.5005 google-chrome\n",
      "[WDM] - Driver [/Users/alex/.wdm/drivers/chromedriver/mac64/102.0.5005.61/chromedriver] found in cache\n"
     ]
    }
   ],
   "source": [
    "link = 'https://www.stats.indiana.edu/uspr/b/place_frame.html'\n",
    "s = Service(ChromeDriverManager().install())\n",
    "options = Options()\n",
    "options.headless = True\n",
    "driver = webdriver.Chrome(service=s, options=options)\n",
    "driver.get(link)\n",
    "driver.switch_to.frame(\"place_bar\")\n",
    "\n",
    "counties = []\n",
    "\n",
    "for i in range(51):\n",
    "    a = driver.find_element(By.NAME, 'states')\n",
    "    drop = Select(a)\n",
    "    txt_match = drop.options[i].text\n",
    "    drop.select_by_visible_text(txt_match)\n",
    "    for j,k in enumerate(data['State']):\n",
    "        if txt_match == k:\n",
    "            inpt_txt = data['City'][j]\n",
    "            driver.find_element(By.NAME, 'place_name').send_keys(inpt_txt)\n",
    "            time.sleep(0.5)\n",
    "            driver.find_element(By.NAME, 'Submit').click()\n",
    "            time.sleep(0.5)\n",
    "            driver.find_element(By.NAME, 'place_name').clear()\n",
    "            driver.switch_to.default_content()\n",
    "            driver.switch_to.frame(\"place_results\")\n",
    "            try:\n",
    "                txt_append = driver.find_elements(By.TAG_NAME, 'td')[2].text\n",
    "            except:\n",
    "                txt_append = 'NA'\n",
    "            counties.append(txt_append)\n",
    "            driver.switch_to.default_content()\n",
    "            driver.switch_to.frame(\"place_bar\")\n",
    "\n",
    "driver.quit()\n",
    "print(counties)"
   ]
  }
 ],
 "metadata": {
  "kernelspec": {
   "display_name": "Python 3 (ipykernel)",
   "language": "python",
   "name": "python3"
  },
  "language_info": {
   "codemirror_mode": {
    "name": "ipython",
    "version": 3
   },
   "file_extension": ".py",
   "mimetype": "text/x-python",
   "name": "python",
   "nbconvert_exporter": "python",
   "pygments_lexer": "ipython3",
   "version": "3.9.7"
  }
 },
 "nbformat": 4,
 "nbformat_minor": 5
}
